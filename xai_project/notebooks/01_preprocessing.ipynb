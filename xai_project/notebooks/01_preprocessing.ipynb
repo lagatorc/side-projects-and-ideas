{
 "cells": [
  {
   "cell_type": "markdown",
   "id": "crazy-maine",
   "metadata": {},
   "source": [
    "# Preprocessing"
   ]
  },
  {
   "cell_type": "code",
   "execution_count": 15,
   "id": "collective-mileage",
   "metadata": {},
   "outputs": [],
   "source": [
    "import pandas as pd\n",
    "import plotly.graph_objects as go\n",
    "import pickle\n",
    "\n",
    "from sklearn.preprocessing import MinMaxScaler, StandardScaler"
   ]
  },
  {
   "cell_type": "code",
   "execution_count": 16,
   "id": "acceptable-favorite",
   "metadata": {},
   "outputs": [],
   "source": [
    "df = pd.read_csv(\"../data/raw/Concrete_Data_Yeh.csv\")"
   ]
  },
  {
   "cell_type": "code",
   "execution_count": 17,
   "id": "dutch-catholic",
   "metadata": {},
   "outputs": [],
   "source": [
    "features = df.drop(columns=[\"csMPa\"])\n",
    "feat_cols = list(features.columns)"
   ]
  },
  {
   "cell_type": "code",
   "execution_count": 18,
   "id": "static-restriction",
   "metadata": {},
   "outputs": [],
   "source": [
    "mm_scaler = MinMaxScaler()\n",
    "fit_mm_scaler = mm_scaler.fit(features)\n",
    "minmax_features = fit_mm_scaler.transform(features)\n",
    "\n",
    "with open(\"../models/scaler/min_max_scaler.pkl\", \"wb\") as f:\n",
    "    pickle.dump(fit_mm_scaler, f)\n",
    "    \n",
    "min_max_df = df.copy(deep=True)\n",
    "min_max_df[feat_cols] = minmax_features\n",
    "\n",
    "min_max_df.to_csv(\"../data/processed/concrete_min_max_scaled.csv\", index=False)"
   ]
  },
  {
   "cell_type": "code",
   "execution_count": 19,
   "id": "interim-arabic",
   "metadata": {},
   "outputs": [],
   "source": [
    "s_scaler = StandardScaler()\n",
    "fit_s_scaler = s_scaler.fit(features)\n",
    "std_features = fit_s_scaler.transform(features)\n",
    "\n",
    "with open(\"../models/scaler/standard_scaler.pkl\", \"wb\") as f:\n",
    "    pickle.dump(fit_s_scaler, f)\n",
    "    \n",
    "std_df = df.copy(deep=True)\n",
    "std_df[feat_cols] = std_features\n",
    "\n",
    "std_df.to_csv(\"../data/processed/concrete_standard_scaled.csv\", index=False)"
   ]
  },
  {
   "cell_type": "code",
   "execution_count": null,
   "id": "thermal-daisy",
   "metadata": {},
   "outputs": [],
   "source": []
  }
 ],
 "metadata": {
  "kernelspec": {
   "display_name": "Python 3",
   "language": "python",
   "name": "python3"
  },
  "language_info": {
   "codemirror_mode": {
    "name": "ipython",
    "version": 3
   },
   "file_extension": ".py",
   "mimetype": "text/x-python",
   "name": "python",
   "nbconvert_exporter": "python",
   "pygments_lexer": "ipython3",
   "version": "3.8.8"
  }
 },
 "nbformat": 4,
 "nbformat_minor": 5
}
