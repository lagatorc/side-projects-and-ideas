{
 "cells": [
  {
   "cell_type": "code",
   "execution_count": 13,
   "id": "framed-atlanta",
   "metadata": {},
   "outputs": [],
   "source": [
    "from sklearn.ensemble import RandomForestRegressor \n",
    "from sklearn.model_selection import train_test_split\n",
    "from sklearn.metrics import r2_score, mean_absolute_percentage_error\n",
    "\n",
    "import pandas as pd\n",
    "import numpy as np\n",
    "import itertools\n",
    "import pickle\n",
    "from datetime import datetime"
   ]
  },
  {
   "cell_type": "code",
   "execution_count": 14,
   "id": "sorted-tracker",
   "metadata": {},
   "outputs": [
    {
     "data": {
      "text/html": [
       "<div>\n",
       "<style scoped>\n",
       "    .dataframe tbody tr th:only-of-type {\n",
       "        vertical-align: middle;\n",
       "    }\n",
       "\n",
       "    .dataframe tbody tr th {\n",
       "        vertical-align: top;\n",
       "    }\n",
       "\n",
       "    .dataframe thead th {\n",
       "        text-align: right;\n",
       "    }\n",
       "</style>\n",
       "<table border=\"1\" class=\"dataframe\">\n",
       "  <thead>\n",
       "    <tr style=\"text-align: right;\">\n",
       "      <th></th>\n",
       "      <th>cement</th>\n",
       "      <th>slag</th>\n",
       "      <th>flyash</th>\n",
       "      <th>water</th>\n",
       "      <th>superplasticizer</th>\n",
       "      <th>coarseaggregate</th>\n",
       "      <th>fineaggregate</th>\n",
       "      <th>age</th>\n",
       "      <th>csMPa</th>\n",
       "    </tr>\n",
       "  </thead>\n",
       "  <tbody>\n",
       "    <tr>\n",
       "      <th>0</th>\n",
       "      <td>1.000000</td>\n",
       "      <td>0.000000</td>\n",
       "      <td>0.0</td>\n",
       "      <td>0.321086</td>\n",
       "      <td>0.07764</td>\n",
       "      <td>0.694767</td>\n",
       "      <td>0.205720</td>\n",
       "      <td>0.074176</td>\n",
       "      <td>79.99</td>\n",
       "    </tr>\n",
       "    <tr>\n",
       "      <th>1</th>\n",
       "      <td>1.000000</td>\n",
       "      <td>0.000000</td>\n",
       "      <td>0.0</td>\n",
       "      <td>0.321086</td>\n",
       "      <td>0.07764</td>\n",
       "      <td>0.738372</td>\n",
       "      <td>0.205720</td>\n",
       "      <td>0.074176</td>\n",
       "      <td>61.89</td>\n",
       "    </tr>\n",
       "    <tr>\n",
       "      <th>2</th>\n",
       "      <td>0.526256</td>\n",
       "      <td>0.396494</td>\n",
       "      <td>0.0</td>\n",
       "      <td>0.848243</td>\n",
       "      <td>0.00000</td>\n",
       "      <td>0.380814</td>\n",
       "      <td>0.000000</td>\n",
       "      <td>0.739011</td>\n",
       "      <td>40.27</td>\n",
       "    </tr>\n",
       "    <tr>\n",
       "      <th>3</th>\n",
       "      <td>0.526256</td>\n",
       "      <td>0.396494</td>\n",
       "      <td>0.0</td>\n",
       "      <td>0.848243</td>\n",
       "      <td>0.00000</td>\n",
       "      <td>0.380814</td>\n",
       "      <td>0.000000</td>\n",
       "      <td>1.000000</td>\n",
       "      <td>41.05</td>\n",
       "    </tr>\n",
       "    <tr>\n",
       "      <th>4</th>\n",
       "      <td>0.220548</td>\n",
       "      <td>0.368392</td>\n",
       "      <td>0.0</td>\n",
       "      <td>0.560703</td>\n",
       "      <td>0.00000</td>\n",
       "      <td>0.515698</td>\n",
       "      <td>0.580783</td>\n",
       "      <td>0.986264</td>\n",
       "      <td>44.30</td>\n",
       "    </tr>\n",
       "  </tbody>\n",
       "</table>\n",
       "</div>"
      ],
      "text/plain": [
       "     cement      slag  flyash     water  superplasticizer  coarseaggregate  \\\n",
       "0  1.000000  0.000000     0.0  0.321086           0.07764         0.694767   \n",
       "1  1.000000  0.000000     0.0  0.321086           0.07764         0.738372   \n",
       "2  0.526256  0.396494     0.0  0.848243           0.00000         0.380814   \n",
       "3  0.526256  0.396494     0.0  0.848243           0.00000         0.380814   \n",
       "4  0.220548  0.368392     0.0  0.560703           0.00000         0.515698   \n",
       "\n",
       "   fineaggregate       age  csMPa  \n",
       "0       0.205720  0.074176  79.99  \n",
       "1       0.205720  0.074176  61.89  \n",
       "2       0.000000  0.739011  40.27  \n",
       "3       0.000000  1.000000  41.05  \n",
       "4       0.580783  0.986264  44.30  "
      ]
     },
     "execution_count": 14,
     "metadata": {},
     "output_type": "execute_result"
    }
   ],
   "source": [
    "df = pd.read_csv(\"../data/processed/concrete_min_max_scaled.csv\")\n",
    "df.head()"
   ]
  },
  {
   "cell_type": "code",
   "execution_count": 15,
   "id": "waiting-dodge",
   "metadata": {},
   "outputs": [],
   "source": [
    "y = df[\"csMPa\"]\n",
    "x = df[[\"cement\", \"slag\", \"flyash\", \"age\", \"water\", \"superplasticizer\"]]"
   ]
  },
  {
   "cell_type": "code",
   "execution_count": 16,
   "id": "substantial-forth",
   "metadata": {},
   "outputs": [],
   "source": [
    "x_train, x_test, y_train, y_test = train_test_split(x, y)"
   ]
  },
  {
   "cell_type": "code",
   "execution_count": 17,
   "id": "unusual-minute",
   "metadata": {},
   "outputs": [],
   "source": [
    "parameters = {\"n_estimators\": [100, 150, 200],\n",
    "              \"criterion\": [\"mse\", \"mae\"],\n",
    "              \"min_samples_split\": [2, 4, 6],\n",
    "              \"max_features\": [\"auto\", \"sqrt\", \"log2\"]}"
   ]
  },
  {
   "cell_type": "code",
   "execution_count": 18,
   "id": "satellite-request",
   "metadata": {},
   "outputs": [],
   "source": [
    "grid_search = list(itertools.product(*parameters.values()))"
   ]
  },
  {
   "cell_type": "code",
   "execution_count": 22,
   "id": "falling-toronto",
   "metadata": {
    "tags": []
   },
   "outputs": [],
   "source": [
    "mape_scores = []\n",
    "r2_scores = []\n",
    "\n",
    "for params in grid_search:\n",
    "    rf = RandomForestRegressor(n_estimators=params[0],\n",
    "                       criterion=params[1],\n",
    "                       min_samples_split=params[2],\n",
    "                       max_features=params[3])\n",
    "    rf.fit(x_train, y_train)\n",
    "    pred = rf.predict(x_test)\n",
    "    mape = mean_absolute_percentage_error(y_test, pred)\n",
    "    mape_scores.append(mape)\n",
    "    \n",
    "    r2 = r2_score(y_test, pred)\n",
    "    r2_scores.append(r2)"
   ]
  },
  {
   "cell_type": "code",
   "execution_count": 26,
   "id": "adjustable-pendant",
   "metadata": {},
   "outputs": [
    {
     "data": {
      "text/plain": [
       "0.11957234859465854"
      ]
     },
     "execution_count": 26,
     "metadata": {},
     "output_type": "execute_result"
    }
   ],
   "source": [
    "mape_scores[np.argmax(r2_scores)]"
   ]
  },
  {
   "cell_type": "code",
   "execution_count": 27,
   "id": "figured-gospel",
   "metadata": {},
   "outputs": [
    {
     "data": {
      "text/plain": [
       "0.9007555345871645"
      ]
     },
     "execution_count": 27,
     "metadata": {},
     "output_type": "execute_result"
    }
   ],
   "source": [
    "r2_scores[np.argmax(r2_scores)]"
   ]
  },
  {
   "cell_type": "code",
   "execution_count": 29,
   "id": "present-clarity",
   "metadata": {},
   "outputs": [
    {
     "data": {
      "text/plain": [
       "RandomForestRegressor(criterion='mae')"
      ]
     },
     "execution_count": 29,
     "metadata": {},
     "output_type": "execute_result"
    }
   ],
   "source": [
    "best_params = grid_search[np.argmax(r2_scores)]\n",
    "best_model = RandomForestRegressor(n_estimators=best_params[0],\n",
    "                   criterion=best_params[1],\n",
    "                   min_samples_split=best_params[2],\n",
    "                   max_features=best_params[3])\n",
    "best_model.fit(x_train, y_train)"
   ]
  },
  {
   "cell_type": "code",
   "execution_count": 31,
   "id": "coated-beauty",
   "metadata": {},
   "outputs": [],
   "source": [
    "filename = datetime.now().strftime(\"%Y_%m_%d_%H_%M\")\n",
    "\n",
    "with open(f\"../models/random_forest_regressor/{filename}.pkl\", \"wb\") as f:\n",
    "    pickle.dump(best_model, f)"
   ]
  },
  {
   "cell_type": "code",
   "execution_count": null,
   "id": "seven-litigation",
   "metadata": {},
   "outputs": [],
   "source": []
  }
 ],
 "metadata": {
  "kernelspec": {
   "display_name": "Python 3",
   "language": "python",
   "name": "python3"
  },
  "language_info": {
   "codemirror_mode": {
    "name": "ipython",
    "version": 3
   },
   "file_extension": ".py",
   "mimetype": "text/x-python",
   "name": "python",
   "nbconvert_exporter": "python",
   "pygments_lexer": "ipython3",
   "version": "3.8.8"
  }
 },
 "nbformat": 4,
 "nbformat_minor": 5
}
