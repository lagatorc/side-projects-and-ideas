{
 "cells": [
  {
   "cell_type": "code",
   "execution_count": 11,
   "id": "fantastic-missile",
   "metadata": {},
   "outputs": [],
   "source": [
    "from sklearn.linear_model import LogisticRegression\n",
    "from sklearn.model_selection import train_test_split\n",
    "from sklearn.metrics import roc_auc_score, accuracy_score\n",
    "\n",
    "import pandas as pd\n",
    "import numpy as np\n",
    "import itertools\n",
    "import pickle"
   ]
  },
  {
   "cell_type": "code",
   "execution_count": 12,
   "id": "bearing-bubble",
   "metadata": {},
   "outputs": [
    {
     "data": {
      "text/html": [
       "<div>\n",
       "<style scoped>\n",
       "    .dataframe tbody tr th:only-of-type {\n",
       "        vertical-align: middle;\n",
       "    }\n",
       "\n",
       "    .dataframe tbody tr th {\n",
       "        vertical-align: top;\n",
       "    }\n",
       "\n",
       "    .dataframe thead th {\n",
       "        text-align: right;\n",
       "    }\n",
       "</style>\n",
       "<table border=\"1\" class=\"dataframe\">\n",
       "  <thead>\n",
       "    <tr style=\"text-align: right;\">\n",
       "      <th></th>\n",
       "      <th>customerID</th>\n",
       "      <th>tenure</th>\n",
       "      <th>MonthlyCharges</th>\n",
       "      <th>TotalCharges</th>\n",
       "      <th>Churn</th>\n",
       "      <th>Partner</th>\n",
       "      <th>MultipleLines</th>\n",
       "      <th>StreamingMovies</th>\n",
       "      <th>DeviceProtection</th>\n",
       "      <th>SeniorCitizen</th>\n",
       "      <th>...</th>\n",
       "      <th>PaperlessBilling</th>\n",
       "      <th>OnlineSecurity</th>\n",
       "      <th>InternetService</th>\n",
       "      <th>TechSupport</th>\n",
       "      <th>PaymentMethod</th>\n",
       "      <th>PhoneService</th>\n",
       "      <th>Dependents</th>\n",
       "      <th>OnlineBackup</th>\n",
       "      <th>Contract</th>\n",
       "      <th>gender</th>\n",
       "    </tr>\n",
       "  </thead>\n",
       "  <tbody>\n",
       "    <tr>\n",
       "      <th>0</th>\n",
       "      <td>7590-VHVEG</td>\n",
       "      <td>1</td>\n",
       "      <td>29.85</td>\n",
       "      <td>29.85</td>\n",
       "      <td>0</td>\n",
       "      <td>0</td>\n",
       "      <td>0</td>\n",
       "      <td>0</td>\n",
       "      <td>0</td>\n",
       "      <td>0</td>\n",
       "      <td>...</td>\n",
       "      <td>0</td>\n",
       "      <td>0</td>\n",
       "      <td>0</td>\n",
       "      <td>0</td>\n",
       "      <td>0</td>\n",
       "      <td>0</td>\n",
       "      <td>0</td>\n",
       "      <td>0</td>\n",
       "      <td>0</td>\n",
       "      <td>0</td>\n",
       "    </tr>\n",
       "    <tr>\n",
       "      <th>1</th>\n",
       "      <td>5575-GNVDE</td>\n",
       "      <td>34</td>\n",
       "      <td>56.95</td>\n",
       "      <td>1889.50</td>\n",
       "      <td>0</td>\n",
       "      <td>1</td>\n",
       "      <td>1</td>\n",
       "      <td>0</td>\n",
       "      <td>1</td>\n",
       "      <td>0</td>\n",
       "      <td>...</td>\n",
       "      <td>1</td>\n",
       "      <td>1</td>\n",
       "      <td>0</td>\n",
       "      <td>0</td>\n",
       "      <td>1</td>\n",
       "      <td>1</td>\n",
       "      <td>0</td>\n",
       "      <td>1</td>\n",
       "      <td>1</td>\n",
       "      <td>1</td>\n",
       "    </tr>\n",
       "    <tr>\n",
       "      <th>2</th>\n",
       "      <td>3668-QPYBK</td>\n",
       "      <td>2</td>\n",
       "      <td>53.85</td>\n",
       "      <td>108.15</td>\n",
       "      <td>1</td>\n",
       "      <td>1</td>\n",
       "      <td>1</td>\n",
       "      <td>0</td>\n",
       "      <td>0</td>\n",
       "      <td>0</td>\n",
       "      <td>...</td>\n",
       "      <td>0</td>\n",
       "      <td>1</td>\n",
       "      <td>0</td>\n",
       "      <td>0</td>\n",
       "      <td>1</td>\n",
       "      <td>1</td>\n",
       "      <td>0</td>\n",
       "      <td>0</td>\n",
       "      <td>0</td>\n",
       "      <td>1</td>\n",
       "    </tr>\n",
       "    <tr>\n",
       "      <th>3</th>\n",
       "      <td>7795-CFOCW</td>\n",
       "      <td>45</td>\n",
       "      <td>42.30</td>\n",
       "      <td>1840.75</td>\n",
       "      <td>0</td>\n",
       "      <td>1</td>\n",
       "      <td>0</td>\n",
       "      <td>0</td>\n",
       "      <td>1</td>\n",
       "      <td>0</td>\n",
       "      <td>...</td>\n",
       "      <td>1</td>\n",
       "      <td>1</td>\n",
       "      <td>0</td>\n",
       "      <td>1</td>\n",
       "      <td>2</td>\n",
       "      <td>0</td>\n",
       "      <td>0</td>\n",
       "      <td>1</td>\n",
       "      <td>1</td>\n",
       "      <td>1</td>\n",
       "    </tr>\n",
       "    <tr>\n",
       "      <th>4</th>\n",
       "      <td>9237-HQITU</td>\n",
       "      <td>2</td>\n",
       "      <td>70.70</td>\n",
       "      <td>151.65</td>\n",
       "      <td>1</td>\n",
       "      <td>1</td>\n",
       "      <td>1</td>\n",
       "      <td>0</td>\n",
       "      <td>0</td>\n",
       "      <td>0</td>\n",
       "      <td>...</td>\n",
       "      <td>0</td>\n",
       "      <td>0</td>\n",
       "      <td>1</td>\n",
       "      <td>0</td>\n",
       "      <td>0</td>\n",
       "      <td>1</td>\n",
       "      <td>0</td>\n",
       "      <td>1</td>\n",
       "      <td>0</td>\n",
       "      <td>0</td>\n",
       "    </tr>\n",
       "  </tbody>\n",
       "</table>\n",
       "<p>5 rows × 21 columns</p>\n",
       "</div>"
      ],
      "text/plain": [
       "   customerID  tenure  MonthlyCharges  TotalCharges  Churn  Partner  \\\n",
       "0  7590-VHVEG       1           29.85         29.85      0        0   \n",
       "1  5575-GNVDE      34           56.95       1889.50      0        1   \n",
       "2  3668-QPYBK       2           53.85        108.15      1        1   \n",
       "3  7795-CFOCW      45           42.30       1840.75      0        1   \n",
       "4  9237-HQITU       2           70.70        151.65      1        1   \n",
       "\n",
       "   MultipleLines  StreamingMovies  DeviceProtection  SeniorCitizen  ...  \\\n",
       "0              0                0                 0              0  ...   \n",
       "1              1                0                 1              0  ...   \n",
       "2              1                0                 0              0  ...   \n",
       "3              0                0                 1              0  ...   \n",
       "4              1                0                 0              0  ...   \n",
       "\n",
       "   PaperlessBilling  OnlineSecurity  InternetService  TechSupport  \\\n",
       "0                 0               0                0            0   \n",
       "1                 1               1                0            0   \n",
       "2                 0               1                0            0   \n",
       "3                 1               1                0            1   \n",
       "4                 0               0                1            0   \n",
       "\n",
       "   PaymentMethod  PhoneService  Dependents  OnlineBackup  Contract  gender  \n",
       "0              0             0           0             0         0       0  \n",
       "1              1             1           0             1         1       1  \n",
       "2              1             1           0             0         0       1  \n",
       "3              2             0           0             1         1       1  \n",
       "4              0             1           0             1         0       0  \n",
       "\n",
       "[5 rows x 21 columns]"
      ]
     },
     "execution_count": 12,
     "metadata": {},
     "output_type": "execute_result"
    }
   ],
   "source": [
    "df = pd.read_csv(\"../data/processed/churn_enum.csv\")\n",
    "df.head()"
   ]
  },
  {
   "cell_type": "code",
   "execution_count": 13,
   "id": "utility-minute",
   "metadata": {},
   "outputs": [],
   "source": [
    "y = df[\"Churn\"]\n",
    "x = df[[\"tenure\", \"Contract\", \"InternetService\", \"MonthlyCharges\"]]"
   ]
  },
  {
   "cell_type": "code",
   "execution_count": 14,
   "id": "swedish-simulation",
   "metadata": {},
   "outputs": [],
   "source": [
    "x_train, x_test, y_train, y_test = train_test_split(x, y)"
   ]
  },
  {
   "cell_type": "code",
   "execution_count": 15,
   "id": "blank-definition",
   "metadata": {},
   "outputs": [],
   "source": [
    "parameters = {\"penalty\": [\"l1\", \"l2\", \"elasticnet\"],\n",
    "              \"C\": [1/(1e-1), 1/(1e-2), 1/(1e-3), 1/(1e-4)],\n",
    "              \"tol\": [1e-4, 1e-5],\n",
    "              \"l1_ratio\": [0.4, 0.5, 0.6]}"
   ]
  },
  {
   "cell_type": "code",
   "execution_count": 16,
   "id": "binding-pepper",
   "metadata": {},
   "outputs": [],
   "source": [
    "grid_search = list(itertools.product(*parameters.values()))"
   ]
  },
  {
   "cell_type": "code",
   "execution_count": 17,
   "id": "fifth-point",
   "metadata": {
    "tags": []
   },
   "outputs": [],
   "source": [
    "roc_auc_scores = []\n",
    "acc_scores = []\n",
    "\n",
    "for params in grid_search:\n",
    "    if params[0] == \"elasticnet\":\n",
    "        lr = LogisticRegression(penalty=params[0], \n",
    "                            C=params[1],\n",
    "                            tol=params[2],\n",
    "                            solver=\"saga\", l1_ratio=params[3],\n",
    "                            max_iter=1000)\n",
    "    else:\n",
    "        lr = LogisticRegression(penalty=params[0], \n",
    "                            C=params[1],\n",
    "                            tol=params[2],\n",
    "                            solver=\"saga\",\n",
    "                            max_iter=1000)\n",
    "        \n",
    "    lr.fit(x_train, y_train)\n",
    "    pred = lr.predict(x_test)\n",
    "    roc_auc_scores.append(roc_auc_score(y_test, pred))\n",
    "    acc_scores.append(accuracy_score(y_test, pred))"
   ]
  },
  {
   "cell_type": "code",
   "execution_count": 18,
   "id": "southeast-malta",
   "metadata": {},
   "outputs": [
    {
     "data": {
      "text/plain": [
       "0.7700170357751278"
      ]
     },
     "execution_count": 18,
     "metadata": {},
     "output_type": "execute_result"
    }
   ],
   "source": [
    "acc_scores[np.argmax(roc_auc_scores)]"
   ]
  },
  {
   "cell_type": "code",
   "execution_count": 19,
   "id": "delayed-treaty",
   "metadata": {},
   "outputs": [
    {
     "data": {
      "text/plain": [
       "0.6644048001895703"
      ]
     },
     "execution_count": 19,
     "metadata": {},
     "output_type": "execute_result"
    }
   ],
   "source": [
    "roc_auc_scores[np.argmax(roc_auc_scores)]"
   ]
  },
  {
   "cell_type": "code",
   "execution_count": 20,
   "id": "brown-spencer",
   "metadata": {},
   "outputs": [
    {
     "data": {
      "text/plain": [
       "LogisticRegression(C=10.0, max_iter=1000, penalty='l1', solver='saga')"
      ]
     },
     "execution_count": 20,
     "metadata": {},
     "output_type": "execute_result"
    }
   ],
   "source": [
    "best_params = grid_search[np.argmax(roc_auc_scores)]\n",
    "if best_params[0] == \"elasticnet\":\n",
    "    best_model = LogisticRegression(penalty=best_params[0], \n",
    "                        C=best_params[1],\n",
    "                        tol=best_params[2],\n",
    "                        solver=\"saga\", l1_ratio=best_params[3],\n",
    "                        max_iter=1000)\n",
    "else:\n",
    "    best_model = LogisticRegression(penalty=best_params[0], \n",
    "                        C=best_params[1],\n",
    "                        tol=best_params[2],\n",
    "                        solver=\"saga\",\n",
    "                        max_iter=1000)\n",
    "best_model.fit(x_train, y_train)"
   ]
  },
  {
   "cell_type": "code",
   "execution_count": 21,
   "id": "original-space",
   "metadata": {},
   "outputs": [],
   "source": [
    "filename = \"2021_05_25_2128\"\n",
    "\n",
    "with open(f\"../models/logistic_regression/{filename}.pkl\", \"wb\") as f:\n",
    "    pickle.dump(best_model, f)"
   ]
  },
  {
   "cell_type": "code",
   "execution_count": 22,
   "id": "collectible-liberal",
   "metadata": {},
   "outputs": [
    {
     "data": {
      "text/plain": [
       "LogisticRegression(C=10.0, max_iter=1000, penalty='l1', solver='saga')"
      ]
     },
     "execution_count": 22,
     "metadata": {},
     "output_type": "execute_result"
    }
   ],
   "source": [
    "best_model"
   ]
  },
  {
   "cell_type": "code",
   "execution_count": null,
   "id": "exterior-sapphire",
   "metadata": {},
   "outputs": [],
   "source": []
  }
 ],
 "metadata": {
  "kernelspec": {
   "display_name": "Python 3",
   "language": "python",
   "name": "python3"
  },
  "language_info": {
   "codemirror_mode": {
    "name": "ipython",
    "version": 3
   },
   "file_extension": ".py",
   "mimetype": "text/x-python",
   "name": "python",
   "nbconvert_exporter": "python",
   "pygments_lexer": "ipython3",
   "version": "3.8.8"
  }
 },
 "nbformat": 4,
 "nbformat_minor": 5
}
