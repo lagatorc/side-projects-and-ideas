{
 "cells": [
  {
   "cell_type": "markdown",
   "id": "signed-traffic",
   "metadata": {},
   "source": [
    "# Preprocessing"
   ]
  },
  {
   "cell_type": "code",
   "execution_count": 2,
   "id": "filled-westminster",
   "metadata": {},
   "outputs": [],
   "source": [
    "import pandas as pd\n",
    "import plotly.graph_objects as go\n",
    "\n",
    "from sklearn.preprocessing import MinMaxScaler"
   ]
  },
  {
   "cell_type": "code",
   "execution_count": 3,
   "id": "unexpected-implementation",
   "metadata": {},
   "outputs": [],
   "source": [
    "df = pd.read_csv(\"../data/raw/WA_Fn-UseC_-Telco-Customer-Churn.csv\")"
   ]
  },
  {
   "cell_type": "code",
   "execution_count": 4,
   "id": "expressed-queens",
   "metadata": {},
   "outputs": [],
   "source": [
    "df.loc[df.TotalCharges == \" \", \"TotalCharges\"] = 0"
   ]
  },
  {
   "cell_type": "code",
   "execution_count": 5,
   "id": "specified-georgia",
   "metadata": {},
   "outputs": [],
   "source": [
    "df[\"TotalCharges\"] = pd.to_numeric(df[\"TotalCharges\"])"
   ]
  },
  {
   "cell_type": "code",
   "execution_count": 6,
   "id": "common-application",
   "metadata": {},
   "outputs": [],
   "source": [
    "numerical = [\"tenure\", \"MonthlyCharges\", \"TotalCharges\"]\n",
    "columns = list(df.columns)\n",
    "categorical = list(set(columns) - set(numerical))\n",
    "categorical.remove(\"customerID\")"
   ]
  },
  {
   "cell_type": "code",
   "execution_count": 7,
   "id": "personalized-desktop",
   "metadata": {},
   "outputs": [],
   "source": [
    "mappings = []\n",
    "for col in categorical:\n",
    "    cats = df[col].unique()\n",
    "    enums = [i for i in range(len(cats))]\n",
    "    mapping = {cat: enum for cat, enum in zip(cats, enums)}\n",
    "    mappings.append(mapping)"
   ]
  },
  {
   "cell_type": "code",
   "execution_count": 8,
   "id": "multiple-sport",
   "metadata": {},
   "outputs": [],
   "source": [
    "enum_df = pd.DataFrame()\n",
    "enum_df[\"customerID\"] = df[\"customerID\"]\n",
    "for num_col in numerical:\n",
    "    enum_df[num_col] = df[num_col]\n",
    "for cat_col, mapping in zip(categorical, mappings):\n",
    "    enum_df[cat_col] = df[cat_col].map(mapping)"
   ]
  },
  {
   "cell_type": "code",
   "execution_count": 9,
   "id": "conventional-western",
   "metadata": {},
   "outputs": [],
   "source": [
    "enum_df.to_csv(\"../data/processed/churn_enum.csv\", index=False)"
   ]
  },
  {
   "cell_type": "code",
   "execution_count": 10,
   "id": "animated-serum",
   "metadata": {},
   "outputs": [],
   "source": [
    "numerical_df = enum_df[numerical]\n",
    "scaled_df = MinMaxScaler().fit_transform(numerical_df)\n",
    "scaled_df.shape\n",
    "enum_df[\"tenure\"] = scaled_df[:, 0]\n",
    "enum_df[\"MonthlyCharges\"] = scaled_df[:, 1]\n",
    "enum_df[\"TotalCharges\"] = scaled_df[:, 2]"
   ]
  },
  {
   "cell_type": "code",
   "execution_count": 11,
   "id": "postal-constant",
   "metadata": {},
   "outputs": [],
   "source": [
    "enum_df.to_csv(\"../data/processed/churn_enum_normalized.csv\", index=False)"
   ]
  },
  {
   "cell_type": "code",
   "execution_count": 12,
   "id": "talented-supplier",
   "metadata": {},
   "outputs": [],
   "source": [
    "df.to_csv(\"../data/processed/churn.csv\", index=False)"
   ]
  },
  {
   "cell_type": "code",
   "execution_count": null,
   "id": "political-tooth",
   "metadata": {},
   "outputs": [],
   "source": []
  }
 ],
 "metadata": {
  "kernelspec": {
   "display_name": "Python 3",
   "language": "python",
   "name": "python3"
  },
  "language_info": {
   "codemirror_mode": {
    "name": "ipython",
    "version": 3
   },
   "file_extension": ".py",
   "mimetype": "text/x-python",
   "name": "python",
   "nbconvert_exporter": "python",
   "pygments_lexer": "ipython3",
   "version": "3.8.8"
  }
 },
 "nbformat": 4,
 "nbformat_minor": 5
}
