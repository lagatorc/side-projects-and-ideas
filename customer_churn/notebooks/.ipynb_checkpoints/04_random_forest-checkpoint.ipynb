{
 "cells": [
  {
   "cell_type": "code",
   "execution_count": 12,
   "id": "piano-documentary",
   "metadata": {},
   "outputs": [],
   "source": [
    "from sklearn.ensemble import RandomForestClassifier\n",
    "from sklearn.model_selection import train_test_split\n",
    "from sklearn.metrics import roc_auc_score, accuracy_score\n",
    "\n",
    "import pandas as pd\n",
    "import numpy as np\n",
    "import itertools\n",
    "import pickle\n",
    "from datetime import datetime"
   ]
  },
  {
   "cell_type": "code",
   "execution_count": 2,
   "id": "extra-exhaust",
   "metadata": {},
   "outputs": [
    {
     "data": {
      "text/html": [
       "<div>\n",
       "<style scoped>\n",
       "    .dataframe tbody tr th:only-of-type {\n",
       "        vertical-align: middle;\n",
       "    }\n",
       "\n",
       "    .dataframe tbody tr th {\n",
       "        vertical-align: top;\n",
       "    }\n",
       "\n",
       "    .dataframe thead th {\n",
       "        text-align: right;\n",
       "    }\n",
       "</style>\n",
       "<table border=\"1\" class=\"dataframe\">\n",
       "  <thead>\n",
       "    <tr style=\"text-align: right;\">\n",
       "      <th></th>\n",
       "      <th>customerID</th>\n",
       "      <th>tenure</th>\n",
       "      <th>MonthlyCharges</th>\n",
       "      <th>TotalCharges</th>\n",
       "      <th>InternetService</th>\n",
       "      <th>StreamingTV</th>\n",
       "      <th>SeniorCitizen</th>\n",
       "      <th>PaymentMethod</th>\n",
       "      <th>Dependents</th>\n",
       "      <th>TechSupport</th>\n",
       "      <th>...</th>\n",
       "      <th>StreamingMovies</th>\n",
       "      <th>OnlineSecurity</th>\n",
       "      <th>gender</th>\n",
       "      <th>Churn</th>\n",
       "      <th>Contract</th>\n",
       "      <th>MultipleLines</th>\n",
       "      <th>PhoneService</th>\n",
       "      <th>Partner</th>\n",
       "      <th>DeviceProtection</th>\n",
       "      <th>PaperlessBilling</th>\n",
       "    </tr>\n",
       "  </thead>\n",
       "  <tbody>\n",
       "    <tr>\n",
       "      <th>0</th>\n",
       "      <td>7590-VHVEG</td>\n",
       "      <td>0.013889</td>\n",
       "      <td>0.115423</td>\n",
       "      <td>0.003437</td>\n",
       "      <td>0</td>\n",
       "      <td>0</td>\n",
       "      <td>0</td>\n",
       "      <td>0</td>\n",
       "      <td>0</td>\n",
       "      <td>0</td>\n",
       "      <td>...</td>\n",
       "      <td>0</td>\n",
       "      <td>0</td>\n",
       "      <td>0</td>\n",
       "      <td>0</td>\n",
       "      <td>0</td>\n",
       "      <td>0</td>\n",
       "      <td>0</td>\n",
       "      <td>0</td>\n",
       "      <td>0</td>\n",
       "      <td>0</td>\n",
       "    </tr>\n",
       "    <tr>\n",
       "      <th>1</th>\n",
       "      <td>5575-GNVDE</td>\n",
       "      <td>0.472222</td>\n",
       "      <td>0.385075</td>\n",
       "      <td>0.217564</td>\n",
       "      <td>0</td>\n",
       "      <td>0</td>\n",
       "      <td>0</td>\n",
       "      <td>1</td>\n",
       "      <td>0</td>\n",
       "      <td>0</td>\n",
       "      <td>...</td>\n",
       "      <td>0</td>\n",
       "      <td>1</td>\n",
       "      <td>1</td>\n",
       "      <td>0</td>\n",
       "      <td>1</td>\n",
       "      <td>1</td>\n",
       "      <td>1</td>\n",
       "      <td>1</td>\n",
       "      <td>1</td>\n",
       "      <td>1</td>\n",
       "    </tr>\n",
       "    <tr>\n",
       "      <th>2</th>\n",
       "      <td>3668-QPYBK</td>\n",
       "      <td>0.027778</td>\n",
       "      <td>0.354229</td>\n",
       "      <td>0.012453</td>\n",
       "      <td>0</td>\n",
       "      <td>0</td>\n",
       "      <td>0</td>\n",
       "      <td>1</td>\n",
       "      <td>0</td>\n",
       "      <td>0</td>\n",
       "      <td>...</td>\n",
       "      <td>0</td>\n",
       "      <td>1</td>\n",
       "      <td>1</td>\n",
       "      <td>1</td>\n",
       "      <td>0</td>\n",
       "      <td>1</td>\n",
       "      <td>1</td>\n",
       "      <td>1</td>\n",
       "      <td>0</td>\n",
       "      <td>0</td>\n",
       "    </tr>\n",
       "    <tr>\n",
       "      <th>3</th>\n",
       "      <td>7795-CFOCW</td>\n",
       "      <td>0.625000</td>\n",
       "      <td>0.239303</td>\n",
       "      <td>0.211951</td>\n",
       "      <td>0</td>\n",
       "      <td>0</td>\n",
       "      <td>0</td>\n",
       "      <td>2</td>\n",
       "      <td>0</td>\n",
       "      <td>1</td>\n",
       "      <td>...</td>\n",
       "      <td>0</td>\n",
       "      <td>1</td>\n",
       "      <td>1</td>\n",
       "      <td>0</td>\n",
       "      <td>1</td>\n",
       "      <td>0</td>\n",
       "      <td>0</td>\n",
       "      <td>1</td>\n",
       "      <td>1</td>\n",
       "      <td>1</td>\n",
       "    </tr>\n",
       "    <tr>\n",
       "      <th>4</th>\n",
       "      <td>9237-HQITU</td>\n",
       "      <td>0.027778</td>\n",
       "      <td>0.521891</td>\n",
       "      <td>0.017462</td>\n",
       "      <td>1</td>\n",
       "      <td>0</td>\n",
       "      <td>0</td>\n",
       "      <td>0</td>\n",
       "      <td>0</td>\n",
       "      <td>0</td>\n",
       "      <td>...</td>\n",
       "      <td>0</td>\n",
       "      <td>0</td>\n",
       "      <td>0</td>\n",
       "      <td>1</td>\n",
       "      <td>0</td>\n",
       "      <td>1</td>\n",
       "      <td>1</td>\n",
       "      <td>1</td>\n",
       "      <td>0</td>\n",
       "      <td>0</td>\n",
       "    </tr>\n",
       "  </tbody>\n",
       "</table>\n",
       "<p>5 rows × 21 columns</p>\n",
       "</div>"
      ],
      "text/plain": [
       "   customerID    tenure  MonthlyCharges  TotalCharges  InternetService  \\\n",
       "0  7590-VHVEG  0.013889        0.115423      0.003437                0   \n",
       "1  5575-GNVDE  0.472222        0.385075      0.217564                0   \n",
       "2  3668-QPYBK  0.027778        0.354229      0.012453                0   \n",
       "3  7795-CFOCW  0.625000        0.239303      0.211951                0   \n",
       "4  9237-HQITU  0.027778        0.521891      0.017462                1   \n",
       "\n",
       "   StreamingTV  SeniorCitizen  PaymentMethod  Dependents  TechSupport  ...  \\\n",
       "0            0              0              0           0            0  ...   \n",
       "1            0              0              1           0            0  ...   \n",
       "2            0              0              1           0            0  ...   \n",
       "3            0              0              2           0            1  ...   \n",
       "4            0              0              0           0            0  ...   \n",
       "\n",
       "   StreamingMovies  OnlineSecurity  gender  Churn  Contract  MultipleLines  \\\n",
       "0                0               0       0      0         0              0   \n",
       "1                0               1       1      0         1              1   \n",
       "2                0               1       1      1         0              1   \n",
       "3                0               1       1      0         1              0   \n",
       "4                0               0       0      1         0              1   \n",
       "\n",
       "   PhoneService  Partner  DeviceProtection  PaperlessBilling  \n",
       "0             0        0                 0                 0  \n",
       "1             1        1                 1                 1  \n",
       "2             1        1                 0                 0  \n",
       "3             0        1                 1                 1  \n",
       "4             1        1                 0                 0  \n",
       "\n",
       "[5 rows x 21 columns]"
      ]
     },
     "execution_count": 2,
     "metadata": {},
     "output_type": "execute_result"
    }
   ],
   "source": [
    "df = pd.read_csv(\"../data/processed/churn_enum.csv\")\n",
    "df.head()"
   ]
  },
  {
   "cell_type": "code",
   "execution_count": 3,
   "id": "running-jaguar",
   "metadata": {},
   "outputs": [],
   "source": [
    "y = df[\"Churn\"]\n",
    "x = df[[\"tenure\", \"Contract\", \"InternetService\", \"MonthlyCharges\"]]"
   ]
  },
  {
   "cell_type": "code",
   "execution_count": 4,
   "id": "seeing-granny",
   "metadata": {},
   "outputs": [],
   "source": [
    "x_train, x_test, y_train, y_test = train_test_split(x, y)"
   ]
  },
  {
   "cell_type": "code",
   "execution_count": 5,
   "id": "incomplete-scanning",
   "metadata": {},
   "outputs": [],
   "source": [
    "parameters = {\"min_samples_split\": [2, 4, 8, 12],\n",
    "              \"min_samples_leaf\": [1, 2, 4, 8, 12],\n",
    "              \"max_features\": [\"auto\", \"log2\", None],\n",
    "              \"n_estimators\": [100, 150, 200]}"
   ]
  },
  {
   "cell_type": "code",
   "execution_count": 6,
   "id": "bored-accuracy",
   "metadata": {},
   "outputs": [],
   "source": [
    "grid_search = list(itertools.product(*parameters.values()))"
   ]
  },
  {
   "cell_type": "code",
   "execution_count": 7,
   "id": "bright-colleague",
   "metadata": {},
   "outputs": [],
   "source": [
    "roc_auc_scores = []\n",
    "acc_scores = []\n",
    "\n",
    "for params in grid_search:\n",
    "    rf = RandomForestClassifier(min_samples_split=params[0], \n",
    "                                min_samples_leaf=params[1],\n",
    "                                max_features=params[2],\n",
    "                                n_estimators = params[3])\n",
    "    rf.fit(x_train, y_train)\n",
    "    pred = rf.predict(x_test)\n",
    "    roc_auc_scores.append(roc_auc_score(y_test, pred))\n",
    "    acc_scores.append(accuracy_score(y_test, pred))"
   ]
  },
  {
   "cell_type": "code",
   "execution_count": 8,
   "id": "understood-consent",
   "metadata": {},
   "outputs": [
    {
     "data": {
      "text/plain": [
       "0.8001135718341851"
      ]
     },
     "execution_count": 8,
     "metadata": {},
     "output_type": "execute_result"
    }
   ],
   "source": [
    "acc_scores[np.argmax(roc_auc_scores)]"
   ]
  },
  {
   "cell_type": "code",
   "execution_count": 9,
   "id": "nasty-forge",
   "metadata": {},
   "outputs": [
    {
     "data": {
      "text/plain": [
       "0.6962880257714976"
      ]
     },
     "execution_count": 9,
     "metadata": {},
     "output_type": "execute_result"
    }
   ],
   "source": [
    "roc_auc_scores[np.argmax(roc_auc_scores)]"
   ]
  },
  {
   "cell_type": "code",
   "execution_count": 10,
   "id": "automated-anthony",
   "metadata": {},
   "outputs": [
    {
     "data": {
      "text/plain": [
       "RandomForestClassifier(min_samples_leaf=12, min_samples_split=8)"
      ]
     },
     "execution_count": 10,
     "metadata": {},
     "output_type": "execute_result"
    }
   ],
   "source": [
    "best_params = grid_search[np.argmax(roc_auc_scores)]\n",
    "best_model = RandomForestClassifier(min_samples_split=best_params[0], \n",
    "                                min_samples_leaf=best_params[1],\n",
    "                                max_features=best_params[2])\n",
    "best_model.fit(x_train, y_train)"
   ]
  },
  {
   "cell_type": "code",
   "execution_count": 11,
   "id": "equivalent-savings",
   "metadata": {},
   "outputs": [
    {
     "data": {
      "text/plain": [
       "(8, 12, 'auto', 150)"
      ]
     },
     "execution_count": 11,
     "metadata": {},
     "output_type": "execute_result"
    }
   ],
   "source": [
    "best_params"
   ]
  },
  {
   "cell_type": "code",
   "execution_count": null,
   "id": "greek-burst",
   "metadata": {},
   "outputs": [],
   "source": [
    "filename = datetime.now().strftime(\"%Y_%m_%d_%H_%M\")\n",
    "\n",
    "with open(f\"../models/random_forest/{filename}.pkl\", \"wb\") as f:\n",
    "    pickle.dump(best_model, f)"
   ]
  },
  {
   "cell_type": "code",
   "execution_count": null,
   "id": "recent-remark",
   "metadata": {},
   "outputs": [],
   "source": []
  }
 ],
 "metadata": {
  "kernelspec": {
   "display_name": "Python 3",
   "language": "python",
   "name": "python3"
  },
  "language_info": {
   "codemirror_mode": {
    "name": "ipython",
    "version": 3
   },
   "file_extension": ".py",
   "mimetype": "text/x-python",
   "name": "python",
   "nbconvert_exporter": "python",
   "pygments_lexer": "ipython3",
   "version": "3.8.8"
  }
 },
 "nbformat": 4,
 "nbformat_minor": 5
}
