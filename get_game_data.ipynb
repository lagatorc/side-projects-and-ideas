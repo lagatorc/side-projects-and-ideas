{
 "cells": [
  {
   "cell_type": "code",
   "execution_count": 1,
   "metadata": {},
   "outputs": [],
   "source": [
    "import os\n",
    "import pandas as pd"
   ]
  },
  {
   "cell_type": "code",
   "execution_count": 2,
   "metadata": {},
   "outputs": [],
   "source": [
    "base = \"data\""
   ]
  },
  {
   "cell_type": "code",
   "execution_count": 3,
   "metadata": {},
   "outputs": [],
   "source": [
    "games_df = pd.read_csv(os.sep.join([base, \"games.csv\"]))"
   ]
  },
  {
   "cell_type": "code",
   "execution_count": 4,
   "metadata": {},
   "outputs": [],
   "source": [
    "gameId = games_df.iloc[0, :][\"gameId\"]"
   ]
  },
  {
   "cell_type": "code",
   "execution_count": 28,
   "metadata": {},
   "outputs": [],
   "source": [
    "class Game:\n",
    "    def __init__(self, gameId):\n",
    "        self.load_game_data(gameId)\n",
    "        self.plays_ids = list(self.player_tracking[\"playId\"].unique())\n",
    "        \n",
    "    def load_game_data(self, gameId):\n",
    "        \n",
    "        games_df = pd.read_csv(os.sep.join([base, \"games.csv\"]))\n",
    "        self.game_details = games_df[games_df[\"gameId\"] == gameId].iloc[0, :].to_dict()\n",
    "        \n",
    "        player_tracking = pd.read_csv(os.sep.join([base, f\"week{self.game_details['week']}.csv\"]))\n",
    "        self.player_tracking = player_tracking[player_tracking[\"gameId\"] == gameId]\n",
    "        \n",
    "        pff = pd.read_csv(os.sep.join([base, \"pffScoutingData.csv\"]))\n",
    "        self.pff = pff[pff[\"gameId\"] == gameId]\n",
    "        \n",
    "        plays = pd.read_csv(os.sep.join([base, \"plays.csv\"]))\n",
    "        self.play_data = plays[plays[\"gameId\"] == gameId]\n",
    "        \n",
    "    def get_play_data(self, playId):\n",
    "        play_tracking_data = self.player_tracking[self.player_tracking[\"playId\"] == playId]\n",
    "        play_pff_data = self.pff[self.pff[\"playId\"] == playId]\n",
    "        play_details = self.play_data[self.play_data[\"playId\"] == playId].iloc[0,:].to_dict()\n",
    "        \n",
    "        return play_details, play_tracking_data, play_pff_data\n",
    "    "
   ]
  },
  {
   "cell_type": "code",
   "execution_count": 29,
   "metadata": {},
   "outputs": [],
   "source": [
    "game_data = Game(gameId)"
   ]
  },
  {
   "cell_type": "code",
   "execution_count": 31,
   "metadata": {},
   "outputs": [],
   "source": [
    "play_details, play_tracking, play_pff = game_data.get_play_data(97)"
   ]
  },
  {
   "cell_type": "code",
   "execution_count": null,
   "metadata": {},
   "outputs": [],
   "source": []
  }
 ],
 "metadata": {
  "kernelspec": {
   "display_name": "nfl_2023",
   "language": "python",
   "name": "python3"
  },
  "language_info": {
   "codemirror_mode": {
    "name": "ipython",
    "version": 3
   },
   "file_extension": ".py",
   "mimetype": "text/x-python",
   "name": "python",
   "nbconvert_exporter": "python",
   "pygments_lexer": "ipython3",
   "version": "3.10.8"
  },
  "orig_nbformat": 4,
  "vscode": {
   "interpreter": {
    "hash": "8592f001470b732d7b988114f1e13a1cb6fd1f53b86cc60250329e84f6a6b278"
   }
  }
 },
 "nbformat": 4,
 "nbformat_minor": 2
}
