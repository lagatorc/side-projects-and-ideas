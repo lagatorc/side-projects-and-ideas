{
 "cells": [
  {
   "cell_type": "code",
   "execution_count": 2,
   "metadata": {},
   "outputs": [],
   "source": [
    "import scipy.io\n",
    "import numpy as np\n",
    "import os\n",
    "import shutil"
   ]
  },
  {
   "cell_type": "code",
   "execution_count": 3,
   "metadata": {},
   "outputs": [],
   "source": [
    "mat = scipy.io.loadmat(\"../data/raw/processed/miml_data.mat\")"
   ]
  },
  {
   "cell_type": "code",
   "execution_count": 8,
   "metadata": {},
   "outputs": [
    {
     "data": {
      "text/plain": [
       "array([[array(['desert'], dtype='<U6')],\n",
       "       [array(['mountains'], dtype='<U9')],\n",
       "       [array(['sea'], dtype='<U3')],\n",
       "       [array(['sunset'], dtype='<U6')],\n",
       "       [array(['trees'], dtype='<U5')]], dtype=object)"
      ]
     },
     "execution_count": 8,
     "metadata": {},
     "output_type": "execute_result"
    }
   ],
   "source": [
    "mat['class_name']"
   ]
  },
  {
   "cell_type": "code",
   "execution_count": 4,
   "metadata": {},
   "outputs": [],
   "source": [
    "class_map = {0 : \"desert\", 1: \"mountains\", 2: \"sea\", 3: \"sunset\", 4: \"trees\"}\n",
    "num_img = mat[\"targets\"].shape[1]\n",
    "\n",
    "img_classes = []\n",
    "for img_num in range(num_img):\n",
    "    idx = np.where(mat[\"targets\"][:, img_num] == 1)\n",
    "    img_class = tuple()\n",
    "    for i in idx[0]:\n",
    "        img_class = img_class + (class_map[i],)\n",
    "    img_class = sorted(img_class)\n",
    "    img_class = \"_\".join(img_class)\n",
    "    img_classes.append(img_class)"
   ]
  },
  {
   "cell_type": "code",
   "execution_count": 5,
   "metadata": {},
   "outputs": [
    {
     "ename": "FileExistsError",
     "evalue": "[Errno 17] File exists: '../data/processed/multi_label/sunset_trees'",
     "output_type": "error",
     "traceback": [
      "\u001b[0;31m---------------------------------------------------------------------------\u001b[0m",
      "\u001b[0;31mFileExistsError\u001b[0m                           Traceback (most recent call last)",
      "\u001b[0;32m<ipython-input-5-e381eacd6585>\u001b[0m in \u001b[0;36m<module>\u001b[0;34m\u001b[0m\n\u001b[1;32m      2\u001b[0m \u001b[0;32mfor\u001b[0m \u001b[0mclass_name\u001b[0m \u001b[0;32min\u001b[0m \u001b[0mclass_names\u001b[0m\u001b[0;34m:\u001b[0m\u001b[0;34m\u001b[0m\u001b[0;34m\u001b[0m\u001b[0m\n\u001b[1;32m      3\u001b[0m     \u001b[0;32mif\u001b[0m \u001b[0mlen\u001b[0m\u001b[0;34m(\u001b[0m\u001b[0mclass_name\u001b[0m\u001b[0;34m.\u001b[0m\u001b[0msplit\u001b[0m\u001b[0;34m(\u001b[0m\u001b[0;34m'_'\u001b[0m\u001b[0;34m)\u001b[0m\u001b[0;34m)\u001b[0m \u001b[0;34m>\u001b[0m \u001b[0;36m1\u001b[0m\u001b[0;34m:\u001b[0m\u001b[0;34m\u001b[0m\u001b[0;34m\u001b[0m\u001b[0m\n\u001b[0;32m----> 4\u001b[0;31m         \u001b[0mos\u001b[0m\u001b[0;34m.\u001b[0m\u001b[0mmkdir\u001b[0m\u001b[0;34m(\u001b[0m\u001b[0;34mf\"../data/processed/multi_label/{class_name}\"\u001b[0m\u001b[0;34m)\u001b[0m\u001b[0;34m\u001b[0m\u001b[0;34m\u001b[0m\u001b[0m\n\u001b[0m\u001b[1;32m      5\u001b[0m     \u001b[0;32melse\u001b[0m\u001b[0;34m:\u001b[0m\u001b[0;34m\u001b[0m\u001b[0;34m\u001b[0m\u001b[0m\n\u001b[1;32m      6\u001b[0m         \u001b[0mos\u001b[0m\u001b[0;34m.\u001b[0m\u001b[0mmkdir\u001b[0m\u001b[0;34m(\u001b[0m\u001b[0;34mf\"../data/processed/single_label/{class_name}\"\u001b[0m\u001b[0;34m)\u001b[0m\u001b[0;34m\u001b[0m\u001b[0;34m\u001b[0m\u001b[0m\n",
      "\u001b[0;31mFileExistsError\u001b[0m: [Errno 17] File exists: '../data/processed/multi_label/sunset_trees'"
     ]
    }
   ],
   "source": [
    "class_names = set(img_classes)\n",
    "for class_name in class_names:\n",
    "    if len(class_name.split('_')) > 1:\n",
    "        os.mkdir(f\"../data/processed/multi_label/{class_name}\")\n",
    "    else:\n",
    "        os.mkdir(f\"../data/processed/single_label/{class_name}\")"
   ]
  },
  {
   "cell_type": "code",
   "execution_count": 8,
   "metadata": {},
   "outputs": [],
   "source": [
    "for i, img_class in enumerate(img_classes, 1):\n",
    "    if len(img_class.split('_')) > 1:\n",
    "        shutil.copyfile(f\"../data/raw/original/{i}.jpg\", f\"../data/processed/multi_label/{img_class}/{i}.jpg\")\n",
    "    else:\n",
    "        shutil.copyfile(f\"../data/raw/original/{i}.jpg\", f\"../data/processed/single_label/{img_class}/{i}.jpg\")"
   ]
  },
  {
   "cell_type": "code",
   "execution_count": 6,
   "metadata": {},
   "outputs": [
    {
     "name": "stdout",
     "output_type": "stream",
     "text": [
      "{'sunset_trees', 'sunset', 'trees', 'desert_trees', 'desert_mountains_sunset', 'desert_sunset_trees', 'mountains_sea_trees', 'sea_sunset_trees', 'mountains_sunset', 'desert_sunset', 'sea', 'sea_sunset', 'mountains_sea', 'mountains_trees', 'mountains', 'sea_trees', 'desert_mountains', 'desert', 'desert_sea', 'mountains_sunset_trees'}\n"
     ]
    }
   ],
   "source": [
    "print(class_names)"
   ]
  },
  {
   "cell_type": "code",
   "execution_count": null,
   "metadata": {},
   "outputs": [],
   "source": []
  }
 ],
 "metadata": {
  "kernelspec": {
   "display_name": "Python 3",
   "language": "python",
   "name": "python3"
  },
  "language_info": {
   "codemirror_mode": {
    "name": "ipython",
    "version": 3
   },
   "file_extension": ".py",
   "mimetype": "text/x-python",
   "name": "python",
   "nbconvert_exporter": "python",
   "pygments_lexer": "ipython3",
   "version": "3.8.8"
  }
 },
 "nbformat": 4,
 "nbformat_minor": 4
}
